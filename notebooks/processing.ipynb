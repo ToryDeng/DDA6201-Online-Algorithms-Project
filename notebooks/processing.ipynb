{
 "cells": [
  {
   "cell_type": "code",
   "execution_count": 2,
   "id": "61d90455-0019-4fbd-b696-57609272d0d3",
   "metadata": {},
   "outputs": [],
   "source": [
    "import scanpy as sc\n",
    "import anndata as ad\n",
    "import pandas as pd\n",
    "import numpy as np\n",
    "from scipy.io import mmread"
   ]
  },
  {
   "cell_type": "code",
   "execution_count": null,
   "id": "0d23a91b-b0aa-45f0-968a-16646442bd22",
   "metadata": {},
   "outputs": [],
   "source": [
    "adata = sc.read_h5ad(\"counts.h5ad\")"
   ]
  },
  {
   "cell_type": "markdown",
   "id": "e4bf5312-8251-48d1-a93d-a5fb7ba074e2",
   "metadata": {},
   "source": [
    "load gene, cell, and sample info"
   ]
  },
  {
   "cell_type": "code",
   "execution_count": 3,
   "id": "f2bbddd3-655f-4aad-9f60-61f8bb5afd2a",
   "metadata": {},
   "outputs": [],
   "source": [
    "gene_names = np.loadtxt(\"features.tsv.gz\", dtype=str)\n",
    "cell_names = np.loadtxt(\"barcodes.tsv.gz\", dtype=str)\n",
    "cell_annotation = pd.read_csv(\"cell_annotation.csv.gz\")"
   ]
  },
  {
   "cell_type": "code",
   "execution_count": 6,
   "id": "c8d5d089-93e1-4bb4-bf22-dcda22b83fc9",
   "metadata": {},
   "outputs": [
    {
     "data": {
      "text/plain": [
       "array(['ABCA9-AS1', 'ABCB1', 'ABCB10', 'ABCB11', 'ABCB4', 'ABCB5',\n",
       "       'ABCB6', 'ABCB7', 'ABCB8', 'ABCB9', 'ABCC1', 'ABCC10', 'ABCC11',\n",
       "       'ABCC2', 'ABCC3', 'ABCC4', 'ABCC5', 'ABCC5-AS1', 'ABCC6', 'ABCC8',\n",
       "       'ABCC9', 'ABCD1', 'ABCD2', 'ABCD3', 'ABCD4', 'ABCE1', 'ABCF1',\n",
       "       'ABCF2', 'ABCF2.1', 'ABCF3', 'ABCG1', 'ABCG2', 'ABCG5', 'ABCG8',\n",
       "       'ABHD1', 'ABHD10', 'ABHD11', 'ABHD12', 'ABHD12B', 'ABHD13',\n",
       "       'ABHD14A', 'ABHD14A-ACY1', 'ABHD14B', 'ABHD15', 'ABHD15-AS1',\n",
       "       'ABHD16A', 'ABHD17A', 'ABHD17B', 'ABHD17C', 'ABHD18', 'ABHD2',\n",
       "       'ABHD3', 'ABHD4', 'ABHD5', 'ABHD6', 'ABHD8', 'ABI1', 'ABI2',\n",
       "       'ABI3', 'ABI3BP', 'ABL1', 'ABL2', 'ABLIM1', 'ABLIM2', 'ABLIM3',\n",
       "       'ABO', 'ABR', 'ABRA', 'ABRACL', 'ABRAXAS1', 'ABRAXAS2', 'ABT1',\n",
       "       'ABTB1', 'ABTB2', 'AC000036.1', 'AC000058.1', 'AC000068.1',\n",
       "       'AC000068.2', 'AC000093.1', 'AC000099.1', 'AC000123.1',\n",
       "       'AC000403.1', 'AC001226.1', 'AC001226.2', 'AC002064.1',\n",
       "       'AC002064.2', 'AC002066.1', 'AC002070.1', 'AC002074.1',\n",
       "       'AC002076.1', 'AC002091.1', 'AC002091.2', 'AC002115.1',\n",
       "       'AC002116.2', 'AC002127.2', 'AC002128.2', 'AC002306.1',\n",
       "       'AC002310.1', 'AC002310.2', 'AC002347.1'], dtype='<U16')"
      ]
     },
     "execution_count": 6,
     "metadata": {},
     "output_type": "execute_result"
    }
   ],
   "source": [
    "gene_names[50:150]"
   ]
  },
  {
   "cell_type": "code",
   "execution_count": null,
   "id": "f48d7c0e-0f91-47cc-a76f-41d60cd0e466",
   "metadata": {},
   "outputs": [],
   "source": [
    "sample_info = pd.read_excel(\"sample_metadata.xlsx\", skiprows=20, skipfooter=37)\n",
    "# sample_info.drop(columns=['title', 'organism',\n",
    "#                           'characteristics: geo accession', 'characteristics: instrument model',\n",
    "#                           'characteristics: Unpublished', 'characteristics: City', 'characteristics: Age', \n",
    "#                           'characteristics: Sex', 'characteristics: Single cell sequencing platform',\n",
    "#                           'characteristics: Sampling day (Days after symptom onset)', 'characteristics: Leukocytes [G/L]', \n",
    "#                           'characteristics: Neutrophils [G/L]', 'characteristics: Lymphocytes [G/L]'], inplace=True)"
   ]
  },
  {
   "cell_type": "markdown",
   "id": "746a87bf-bedb-4378-9000-98b74904c64d",
   "metadata": {},
   "source": [
    "check whether `cell_names` are actually equal to the `cellName` column in `cell_annotation`:"
   ]
  },
  {
   "cell_type": "code",
   "execution_count": null,
   "id": "2edef2d2-5950-4129-bc80-67b8c0bbac9b",
   "metadata": {},
   "outputs": [],
   "source": [
    "num = 0\n",
    "for i, cell_name in enumerate(cell_names):\n",
    "    cellName = cell_annotation.iloc[i, 0]\n",
    "    if cell_name != cellName[:len(cell_name)]:\n",
    "        num += 1\n",
    "num"
   ]
  },
  {
   "cell_type": "markdown",
   "id": "f30c3cc0-5381-45e7-a6b6-23417b8d4097",
   "metadata": {},
   "source": [
    "merge cell info and sample info"
   ]
  },
  {
   "cell_type": "code",
   "execution_count": null,
   "id": "1b0bf924-87eb-4b5b-bc51-cd1c1753c4c7",
   "metadata": {},
   "outputs": [],
   "source": [
    "cell_info = pd.merge(cell_annotation, sample_info, left_on='sampleID', right_on='Sample name', how='left', validate='many_to_one')\n",
    "cell_info.drop(columns=['Sample name'], inplace=True)\n",
    "cell_info.set_index('cellName', inplace=True)"
   ]
  },
  {
   "cell_type": "markdown",
   "id": "4b5f0e03-058d-4c1a-a09e-7fc63c0a0fc8",
   "metadata": {},
   "source": [
    "restore info in the `anndata` object"
   ]
  },
  {
   "cell_type": "code",
   "execution_count": null,
   "id": "70a48f84-3a97-4070-b575-98e9ae022c38",
   "metadata": {},
   "outputs": [],
   "source": [
    "adata.var_names = gene_names\n",
    "adata.obs_names = cell_names\n",
    "adata.obs = cell_info"
   ]
  },
  {
   "cell_type": "markdown",
   "id": "ffc862d2-bc3d-444b-8e50-4aa078fcda96",
   "metadata": {},
   "source": [
    "Save the raw `anndata` object. Before writing the columns containing mixed types of data are converted into `str` type."
   ]
  },
  {
   "cell_type": "code",
   "execution_count": null,
   "id": "2c05675f-1dda-4417-a41a-019a5fc5118b",
   "metadata": {},
   "outputs": [],
   "source": [
    "for col in ['characteristics: Age', 'characteristics: Sampling day (Days after symptom onset)'\n",
    "           'characteristics: Leukocytes [G/L]', 'characteristics: Neutrophils [G/L]', 'characteristics: Lymphocytes [G/L]']:\n",
    "    adata.obs[col] = adata.obs[col].astype(str)"
   ]
  },
  {
   "cell_type": "code",
   "execution_count": null,
   "id": "3b772577-32ea-49b1-bc29-dca5ff468be5",
   "metadata": {},
   "outputs": [],
   "source": [
    "adata.write_h5ad(\"covid19_GSE158055_raw.h5ad\")"
   ]
  },
  {
   "cell_type": "markdown",
   "id": "2d34cd0b-6415-4768-8738-a724e6f5551e",
   "metadata": {},
   "source": [
    "subset the `anndata` object"
   ]
  },
  {
   "cell_type": "code",
   "execution_count": 13,
   "id": "08b47a39-8eb2-45e4-90c7-27f1cc135e0f",
   "metadata": {},
   "outputs": [],
   "source": [
    "adata = sc.read_h5ad(\"covid19_GSE158055_raw.h5ad\")"
   ]
  },
  {
   "cell_type": "code",
   "execution_count": 14,
   "id": "ed77629a-eb05-4699-97f3-f353ab1806c8",
   "metadata": {},
   "outputs": [],
   "source": [
    "# 8 severe patients and 5 controls, more balanced\n",
    "is_frozen_pbmc = adata.obs['characteristics: Sample type'].isin(['frozen PBMC'])\n",
    "# sampled in the covid19 progress or from controls\n",
    "is_recovered_or_healthy = adata.obs['characteristics: Sample time'].isin(['progression', 'control'])\n",
    "# severe symptomes or control\n",
    "is_severe_or_ctrl = adata.obs['characteristics: CoVID-19 severity'].isin(['severe/critical', 'control'])\n",
    "# no other diseases\n",
    "only_covid_or_ctrl = adata.obs['characteristics: Comorbidities'].isin(['none', 'control'])\n",
    "# most cells are sequenced by 10X 5'\n",
    "is_tgt_protocol = adata.obs['characteristics: Single cell sequencing platform'] == \"10X 5'\"\n",
    "# these 2 cell types contain < 100 cells\n",
    "is_tgt_majorType = ~adata.obs['majorType'].isin(['Neu', 'Macro'])\n",
    "is_tgt_samples = is_frozen_pbmc & is_severe_or_ctrl & is_recovered_or_healthy & only_covid_or_ctrl & is_tgt_protocol & is_tgt_majorType"
   ]
  },
  {
   "cell_type": "code",
   "execution_count": 15,
   "id": "7242d6b2-8c0c-4aba-a7fe-7924c7e8b247",
   "metadata": {},
   "outputs": [
    {
     "data": {
      "text/plain": [
       "View of AnnData object with n_obs × n_vars = 94652 × 27943\n",
       "    obs: 'sampleID', 'celltype', 'majorType', 'title', 'organism', 'Patients', 'characteristics:  Datasets', 'characteristics: City', 'characteristics: Age', 'characteristics: Sex', 'characteristics: Sample type', 'characteristics: CoVID-19 severity', 'characteristics: Sample time', 'characteristics: Sampling day (Days after symptom onset)', 'characteristics: SARS-CoV-2', 'characteristics: Single cell sequencing platform', 'characteristics: BCR single cell sequencing', 'characteristics: TCR single cell sequencing', 'characteristics: Outcome', 'characteristics: Comorbidities', 'characteristics: COVID-19-related medication and anti-microbials', 'characteristics: Leukocytes [G/L]', 'characteristics: Neutrophils [G/L]', 'characteristics: Lymphocytes [G/L]', 'characteristics: Unpublished', 'characteristics: geo accession', 'characteristics: instrument model'"
      ]
     },
     "execution_count": 15,
     "metadata": {},
     "output_type": "execute_result"
    }
   ],
   "source": [
    "subset_adata = adata[is_tgt_samples,]\n",
    "subset_adata"
   ]
  },
  {
   "cell_type": "code",
   "execution_count": 19,
   "id": "e006f6ef-4d84-4874-8683-6d2be545a046",
   "metadata": {},
   "outputs": [],
   "source": [
    "subset_adata.write_h5ad(\"covid19_GSE158055_subset100k.h5ad\")"
   ]
  },
  {
   "cell_type": "code",
   "execution_count": 3,
   "id": "239e0f09-8f90-455f-bcb5-f26cf7d11665",
   "metadata": {},
   "outputs": [],
   "source": [
    "subset_adata = sc.read_h5ad(\"covid19_GSE158055_subset100k.h5ad\")"
   ]
  },
  {
   "cell_type": "code",
   "execution_count": 4,
   "id": "706100d9-855c-47c2-8d2c-9adf086f3d16",
   "metadata": {},
   "outputs": [
    {
     "data": {
      "text/plain": [
       "majorType\n",
       "CD8       30714\n",
       "CD4       27128\n",
       "Mono      16707\n",
       "B         12038\n",
       "NK         4567\n",
       "Mega       1598\n",
       "DC         1028\n",
       "Plasma      872\n",
       "Name: count, dtype: int64"
      ]
     },
     "execution_count": 4,
     "metadata": {},
     "output_type": "execute_result"
    }
   ],
   "source": [
    "subset_adata.obs['majorType'].value_counts()"
   ]
  },
  {
   "cell_type": "code",
   "execution_count": 16,
   "id": "cf0f370b-4010-40a5-ad7d-438a13ce8bfe",
   "metadata": {},
   "outputs": [
    {
     "data": {
      "text/plain": [
       "characteristics: CoVID-19 severity\n",
       "control            5\n",
       "severe/critical    7\n",
       "Name: Patients, dtype: int64"
      ]
     },
     "execution_count": 16,
     "metadata": {},
     "output_type": "execute_result"
    }
   ],
   "source": [
    "subset_adata.obs.groupby('characteristics: CoVID-19 severity')['Patients'].nunique()"
   ]
  },
  {
   "cell_type": "code",
   "execution_count": 18,
   "id": "58bfb1ce-091e-41fa-8f3e-2e4a6e1e2328",
   "metadata": {},
   "outputs": [
    {
     "data": {
      "text/plain": [
       "characteristics: CoVID-19 severity\n",
       "control            5\n",
       "severe/critical    8\n",
       "Name: sampleID, dtype: int64"
      ]
     },
     "execution_count": 18,
     "metadata": {},
     "output_type": "execute_result"
    }
   ],
   "source": [
    "subset_adata.obs.groupby('characteristics: CoVID-19 severity')['sampleID'].nunique()"
   ]
  },
  {
   "cell_type": "code",
   "execution_count": 17,
   "id": "c2c38621-d386-4a32-bb28-f557fca9d663",
   "metadata": {},
   "outputs": [
    {
     "data": {
      "text/plain": [
       "characteristics: Sample type  characteristics: CoVID-19 severity\n",
       "frozen PBMC                   control                               5\n",
       "                              severe/critical                       8\n",
       "Name: sampleID, dtype: int64"
      ]
     },
     "execution_count": 17,
     "metadata": {},
     "output_type": "execute_result"
    }
   ],
   "source": [
    "subset_adata.obs.groupby(['characteristics: Sample type', 'characteristics: CoVID-19 severity'])['sampleID'].nunique()"
   ]
  }
 ],
 "metadata": {
  "kernelspec": {
   "display_name": "spatial",
   "language": "python",
   "name": "python3"
  },
  "language_info": {
   "codemirror_mode": {
    "name": "ipython",
    "version": 3
   },
   "file_extension": ".py",
   "mimetype": "text/x-python",
   "name": "python",
   "nbconvert_exporter": "python",
   "pygments_lexer": "ipython3",
   "version": "3.11.5"
  }
 },
 "nbformat": 4,
 "nbformat_minor": 5
}
